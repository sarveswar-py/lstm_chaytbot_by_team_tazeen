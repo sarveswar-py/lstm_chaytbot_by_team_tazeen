{
 "cells": [
  {
   "cell_type": "code",
   "execution_count": null,
   "metadata": {},
   "outputs": [],
   "source": [
    "import tensorflow as tf\n",
    "import numpy as np\n",
    "from tensorflow.keras.models import Model\n",
    "from tensorflow.keras.layers import Input, Embedding, Dense, LSTM, Masking\n",
    "from tensorflow.keras.preprocessing.text import tokenizer_from_json\n",
    "import json\n",
    "import time"
   ]
  },
  {
   "cell_type": "code",
   "execution_count": null,
   "metadata": {},
   "outputs": [],
   "source": [
    "# import preprocessed data\n",
    "\n",
    "with open('questions.json', 'r') as f:\n",
    "    json_data = json.load(f)\n",
    "    question_corpus = tokenizer_from_json(json_data)\n",
    "    f.close()\n",
    "\n",
    "with open('answers.json', 'r') as f:\n",
    "    json_data = json.load(f)\n",
    "    answer_corpus = tokenizer_from_json(json_data)\n",
    "    f.close()\n",
    "\n",
    "npzfile = np.load('data.npz') "
   ]
  },
  {
   "cell_type": "code",
   "execution_count": null,
   "metadata": {},
   "outputs": [],
   "source": [
    "# define encoder\n",
    "\n",
    "def create_encoder(inputdim, embeddingsize, inputlen, n_units):\n",
    "\n",
    "    # encoder\n",
    "    encoder_input = Input((inputlen,))\n",
    "    encoder_embed = Embedding(inputdim+1, embeddingsize)(encoder_input)\n",
    "    # we use embedding layer to vectorize the word. the inputdim indicates the input dimension\n",
    "    # specifically, the inputdim is the length of vocabulary\n",
    "    # and the embeddingsize indicates the output dimension, which is the dimension of word vectors\n",
    "    encoder_mask = Masking()(encoder_embed)\n",
    "    # add mask layer because we should ignore the input of those padding 0\n",
    "    encoder = LSTM(n_units, return_state = True)\n",
    "    # n_units indicates the number of LSTM units \n",
    "    # the state h & c are the vectors which encoder maps input to\n",
    "    # discard the output of encoder, only state h & c are we need\n",
    "    _, encoder_h, encoder_c = encoder(encoder_mask)\n",
    "    \n",
    "    encoder=Model(encoder_input, [encoder_h,encoder_c])\n",
    "    \n",
    "    return encoder"
   ]
  },
  {
   "cell_type": "code",
   "execution_count": null,
   "metadata": {},
   "outputs": [],
   "source": [
    "# define decoder. notice that this model is only used in training\n",
    "\n",
    "def create_decoder(inputdim, embeddingsize,inputlen, n_units):\n",
    "    # input of answers\n",
    "    decoder_input = Input((inputlen,))\n",
    "    # input of encoder state vectors\n",
    "    initial_stateh = Input((n_units,))\n",
    "    initial_statec = Input((n_units,))\n",
    "    encoder_state = [initial_stateh,initial_statec]\n",
    "    # vectorize input answers\n",
    "    decoder_embed = Embedding(inputdim+1, embeddingsize,input_length = 1)(decoder_input)\n",
    "    decoder_mask = Masking()(decoder_embed)\n",
    "    decoder = LSTM(n_units, return_sequences = True, return_state = True)\n",
    "    # the state h & c we dont need in training model\n",
    "    decoder_output, _, _ = decoder(decoder_mask,initial_state = encoder_state)\n",
    "    # softmax layer, predict the most potential sentence of reply\n",
    "    decoder_dense = Dense(inputdim, activation = 'softmax')\n",
    "    decoder_output_ = decoder_dense(decoder_output)\n",
    "    \n",
    "    decoder=Model([decoder_input,initial_stateh,initial_statec],decoder_output_)\n",
    "    \n",
    "    return decoder"
   ]
  },
  {
   "cell_type": "code",
   "execution_count": null,
   "metadata": {},
   "outputs": [],
   "source": [
    "# define hyperparameters\n",
    "\n",
    "BatchSize = 32\n",
    "N_Unit = 256\n",
    "EmbeddingSize = 128\n",
    "VocabSize = 2500 \n",
    "# theoretically, vocabulary size should be len(question_corpus.word_index)+1. \n",
    "# however, seems like the 'num_words' didnt filter the tokenizer. so we assign the number manually\n",
    "QuestionLen = npzfile['arr_0'].shape[1]\n",
    "AnswerLen = npzfile['arr_1'].shape[1]"
   ]
  },
  {
   "cell_type": "code",
   "execution_count": null,
   "metadata": {},
   "outputs": [],
   "source": [
    "encoder=create_encoder(VocabSize,EmbeddingSize,QuestionLen,N_Unit)"
   ]
  },
  {
   "cell_type": "code",
   "execution_count": null,
   "metadata": {},
   "outputs": [],
   "source": [
    "encoder.summary()"
   ]
  },
  {
   "cell_type": "code",
   "execution_count": null,
   "metadata": {},
   "outputs": [],
   "source": [
    "decoder=create_decoder(VocabSize,EmbeddingSize,AnswerLen,N_Unit)"
   ]
  },
  {
   "cell_type": "code",
   "execution_count": null,
   "metadata": {},
   "outputs": [],
   "source": [
    "decoder.summary()"
   ]
  },
  {
   "cell_type": "code",
   "execution_count": null,
   "metadata": {},
   "outputs": [],
   "source": [
    "# define the optimizer and loss function\n",
    "optimizer = tf.keras.optimizers.Adam(1e-3)\n",
    "def loss_function(real, pred): \n",
    "    loss = tf.keras.losses.categorical_crossentropy(real,pred)\n",
    "    return tf.reduce_mean(loss)"
   ]
  },
  {
   "cell_type": "code",
   "execution_count": null,
   "metadata": {},
   "outputs": [],
   "source": [
    "# define the training step\n",
    "\n",
    "@tf.function\n",
    "def train_step(enc_inp,dec_inp,targ):\n",
    "    loss=0\n",
    "\n",
    "    with tf.GradientTape() as tape:\n",
    "        encoder_h,encoder_c=encoder(enc_inp)\n",
    "        initial_stateh,initial_statec=encoder_h,encoder_c\n",
    "        prediction=decoder([dec_inp,initial_stateh,initial_statec])\n",
    "        loss=loss_function(targ,prediction)\n",
    "\n",
    "    variables = encoder.trainable_variables + decoder.trainable_variables\n",
    "    gradients = tape.gradient(loss, variables)\n",
    "    optimizer.apply_gradients(zip(gradients, variables))\n",
    "    \n",
    "    return loss"
   ]
  },
  {
   "cell_type": "code",
   "execution_count": null,
   "metadata": {},
   "outputs": [],
   "source": [
    "# define the validation loss\n",
    "\n",
    "def validation_loss(enc_inp,dec_inp,targ):\n",
    "    loss=0\n",
    "    encoder_h,encoder_c=encoder(enc_inp)\n",
    "    initial_stateh,initial_statec=encoder_h,encoder_c\n",
    "    prediction=decoder([dec_inp,initial_stateh,initial_statec])\n",
    "    loss=loss_function(targ,prediction)\n",
    "    \n",
    "    return loss"
   ]
  },
  {
   "cell_type": "code",
   "execution_count": null,
   "metadata": {},
   "outputs": [],
   "source": [
    "# define the parameter to split data\n",
    "train_valid_split = int(len(npzfile['arr_0'])*0.8)"
   ]
  },
  {
   "cell_type": "code",
   "execution_count": null,
   "metadata": {},
   "outputs": [],
   "source": [
    "# get the training data\n",
    "inputq=npzfile['arr_0'][:train_valid_split]\n",
    "inputa=npzfile['arr_1'][:train_valid_split]\n",
    "targa=np.zeros_like(inputa) # create target data to do teacher forcing training\n",
    "targa[:,0:-1]=inputa[:,1:]  # the target is same as the input answers but 1 timestep shifted to the left"
   ]
  },
  {
   "cell_type": "code",
   "execution_count": null,
   "metadata": {},
   "outputs": [],
   "source": [
    "# get the validation data\n",
    "validq=npzfile['arr_0'][train_valid_split:]\n",
    "valida=npzfile['arr_1'][train_valid_split:]\n",
    "validt=np.zeros_like(valida)\n",
    "validt[:,0:-1]=valida[:,1:]"
   ]
  },
  {
   "cell_type": "code",
   "execution_count": null,
   "metadata": {},
   "outputs": [],
   "source": [
    "def onehotencoding(matrix, dim):\n",
    "    onehot = np.zeros((matrix.shape[0], matrix.shape[1], dim), dtype=np.float32)\n",
    "    for i, sequence in enumerate(matrix):\n",
    "        for j, index in enumerate(sequence):\n",
    "            if index > 0 and index < dim:  # Ensure index is within the correct range\n",
    "                onehot[i][j][index-1] = 1\n",
    "    return onehot\n"
   ]
  },
  {
   "cell_type": "code",
   "execution_count": null,
   "metadata": {},
   "outputs": [],
   "source": [
    "# use onehot encoding to vectorize the target data\n",
    "def onehotencoding(matrix,dim):\n",
    "    onehot=np.zeros((matrix.shape[0],matrix.shape[1],dim))\n",
    "    for i,sequence in enumerate(matrix):\n",
    "        for j,index in enumerate(sequence):\n",
    "            if index>0:\n",
    "                onehot[i][j][index-1]=1 # the index start from 1 so we minus 1\n",
    "    return onehot"
   ]
  },
  {
   "cell_type": "code",
   "execution_count": null,
   "metadata": {},
   "outputs": [],
   "source": [
    "# create tensorflow dataset pipeline for faster processing\n",
    "# training set\n",
    "BufferSize = len(inputq)\n",
    "dataset_train = tf.data.Dataset.from_tensor_slices((inputq,inputa,targa)).shuffle(BufferSize)\n",
    "dataset_train = dataset_train.batch(BatchSize, drop_remainder=True)\n",
    "# validation set\n",
    "BufferSize1 = len(validq)\n",
    "dataset_valid = tf.data.Dataset.from_tensor_slices((validq,valida,validt)).shuffle(BufferSize1)\n",
    "dataset_valid = dataset_valid.batch(BatchSize, drop_remainder=True)"
   ]
  },
  {
   "cell_type": "code",
   "execution_count": null,
   "metadata": {},
   "outputs": [],
   "source": [
    "# train the model\n",
    "\n",
    "Epochs = 8\n",
    "trainstep_epoch = len(inputq)//BatchSize\n",
    "validstep_epoch = len(validq)//BatchSize\n",
    "overalltime=0\n",
    "stop_early=0\n",
    "stop=2\n",
    "summary_valid_loss=[]\n",
    "for epoch in range(Epochs):\n",
    "    start=time.time()\n",
    "    total_loss=0\n",
    "    valid_loss=0\n",
    "    \n",
    "    for (batch, (inputq,inputa,targa)) in enumerate(dataset_train.take(trainstep_epoch)):\n",
    "        targa_onehot=onehotencoding(targa,VocabSize)\n",
    "        batch_loss = train_step(inputq,inputa,targa_onehot)\n",
    "        total_loss += batch_loss\n",
    "    \n",
    "    for (batch, (validq,valida,validt)) in enumerate(dataset_valid.take(validstep_epoch)):\n",
    "        validt_onehot=onehotencoding(validt,VocabSize)\n",
    "        valid_batch_loss = validation_loss(validq,valida,validt_onehot)\n",
    "        valid_loss+=valid_batch_loss\n",
    "    print('Epoch {} Loss {:.3f} Valid_Loss {:.3f}'.format(epoch+1,total_loss/trainstep_epoch,valid_loss/validstep_epoch))\n",
    "    \n",
    "    \n",
    "    summary_valid_loss.append(valid_loss)\n",
    "    if valid_loss>min(summary_valid_loss):\n",
    "        stop_early+=1\n",
    "        if stop_early==stop:\n",
    "            break\n",
    "    \n",
    "    stop=time.time()\n",
    "    timetaken=stop-start\n",
    "    print('Time taken for 1 epoch {} sec\\n'.format(timetaken))\n",
    "    \n",
    "    overalltime+=timetaken\n",
    "    \n",
    "    if stop_early==stop:\n",
    "        print('stop training')\n",
    "        break\n",
    "    \n",
    "print('Overall time taken {} min\\n'.format(overalltime/60))"
   ]
  },
  {
   "cell_type": "code",
   "execution_count": null,
   "metadata": {},
   "outputs": [],
   "source": [
    "# save parameters after training\n",
    "encoder.save_weights('./trained_model/lstm_enc_test.h5')\n",
    "decoder.save_weights('./trained_model/lstm_dec_test.h5')"
   ]
  },
  {
   "cell_type": "code",
   "execution_count": null,
   "metadata": {},
   "outputs": [],
   "source": []
  }
 ],
 "metadata": {
  "kernelspec": {
   "display_name": "Python 3 (ipykernel)",
   "language": "python",
   "name": "python3"
  },
  "language_info": {
   "codemirror_mode": {
    "name": "ipython",
    "version": 3
   },
   "file_extension": ".py",
   "mimetype": "text/x-python",
   "name": "python",
   "nbconvert_exporter": "python",
   "pygments_lexer": "ipython3",
   "version": "3.11.4"
  }
 },
 "nbformat": 4,
 "nbformat_minor": 4
}
