{
 "cells": [
  {
   "cell_type": "code",
   "execution_count": 1,
   "metadata": {},
   "outputs": [],
   "source": [
    "import tensorflow as tf\n",
    "import numpy as np\n",
    "import json\n",
    "import re\n",
    "from tensorflow.keras.models import Model\n",
    "from tensorflow.keras.layers import Input, Embedding, Dense, GRU, LSTM, Masking\n",
    "from keras.preprocessing.text import tokenizer_from_json"
   ]
  },
  {
   "cell_type": "code",
   "execution_count": 2,
   "metadata": {},
   "outputs": [],
   "source": [
    "# import preprocessed data\n",
    "\n",
    "with open('questions.json', 'r') as f:\n",
    "    json_data = json.load(f)\n",
    "    question_corpus = tokenizer_from_json(json_data)\n",
    "    f.close()\n",
    "\n",
    "with open('answers.json', 'r') as f:\n",
    "    json_data = json.load(f)\n",
    "    answer_corpus = tokenizer_from_json(json_data)\n",
    "    f.close()\n",
    "\n",
    "npzfile = np.load('data.npz') "
   ]
  },
  {
   "cell_type": "code",
   "execution_count": 3,
   "metadata": {},
   "outputs": [],
   "source": [
    "# some unknown reason make the corpus contain all words and labels in raw data rather than a vocabulary with limited size\n",
    "# so we have to build the dict manually\n",
    "q_word2ind={e:i for e,i in question_corpus.word_index.items() if i <= 2500}\n",
    "q_ind2word={e:i for i,e in q_word2ind.items()}\n",
    "a_word2ind={e:i for e,i in answer_corpus.word_index.items() if i <= 2500}\n",
    "a_ind2word={e:i for i,e in a_word2ind.items()}"
   ]
  },
  {
   "cell_type": "code",
   "execution_count": 4,
   "metadata": {},
   "outputs": [],
   "source": [
    "# define encoder\n",
    "# notice that the encoder at here is totally same with the encoder in training model\n",
    "def create_encoder(inputdim, embeddingsize, inputlen, n_units):\n",
    "\n",
    "    encoder_input = Input((inputlen,))\n",
    "    encoder_embed = Embedding(inputdim+1, embeddingsize)(encoder_input)\n",
    "    encoder_mask = Masking()(encoder_embed)\n",
    "    encoder = LSTM(n_units, return_state = True)\n",
    "    _, encoder_h, encoder_c = encoder(encoder_mask)\n",
    "    \n",
    "    encoder=Model(encoder_input, [encoder_h,encoder_c])\n",
    "    \n",
    "    return encoder"
   ]
  },
  {
   "cell_type": "code",
   "execution_count": 5,
   "metadata": {},
   "outputs": [],
   "source": [
    "# define decoder\n",
    "# notice that we use inference model at here, which is a little different with the decoder in training model\n",
    "def create_decoder(inputdim, embeddingsize, n_units):\n",
    "    # the size of input at here is 1 because we want to predict the answer step by step, each time only input 1 word\n",
    "    decoder_input = Input((1,))\n",
    "    initial_stateh = Input((n_units,))\n",
    "    initial_statec = Input((n_units,))\n",
    "    encoder_state = [initial_stateh,initial_statec]\n",
    "    decoder_embed = Embedding(inputdim+1, embeddingsize,input_length = 1)(decoder_input)\n",
    "    decoder_mask = Masking()(decoder_embed)\n",
    "    decoder = LSTM(n_units, return_sequences = True, return_state = True)\n",
    "    # in training model, we dont use the state h & c. but in inference model, we do\n",
    "    decoder_output, decoder_h, decoder_c = decoder(decoder_mask,initial_state = encoder_state)\n",
    "    decoder_dense = Dense(inputdim, activation = 'softmax')\n",
    "    decoder_output_ = decoder_dense(decoder_output)\n",
    "    \n",
    "    decoder=Model([decoder_input,initial_stateh,initial_statec],[decoder_output_,decoder_h,decoder_c])\n",
    "    \n",
    "    return decoder"
   ]
  },
  {
   "cell_type": "code",
   "execution_count": 6,
   "metadata": {},
   "outputs": [],
   "source": [
    "# define hyperparameters\n",
    "\n",
    "N_Unit = 256\n",
    "EmbeddingSize = 128\n",
    "VocabSize = 2500 \n",
    "QuestionLen = npzfile['arr_0'].shape[1]\n",
    "AnswerLen = npzfile['arr_1'].shape[1]"
   ]
  },
  {
   "cell_type": "code",
   "execution_count": 7,
   "metadata": {},
   "outputs": [
    {
     "name": "stderr",
     "output_type": "stream",
     "text": [
      "2024-08-06 15:15:07.017176: I metal_plugin/src/device/metal_device.cc:1154] Metal device set to: Apple M1\n",
      "2024-08-06 15:15:07.017219: I metal_plugin/src/device/metal_device.cc:296] systemMemory: 8.00 GB\n",
      "2024-08-06 15:15:07.017233: I metal_plugin/src/device/metal_device.cc:313] maxCacheSize: 2.67 GB\n",
      "2024-08-06 15:15:07.017581: I tensorflow/core/common_runtime/pluggable_device/pluggable_device_factory.cc:306] Could not identify NUMA node of platform GPU ID 0, defaulting to 0. Your kernel may not have been built with NUMA support.\n",
      "2024-08-06 15:15:07.017992: I tensorflow/core/common_runtime/pluggable_device/pluggable_device_factory.cc:272] Created TensorFlow device (/job:localhost/replica:0/task:0/device:GPU:0 with 0 MB memory) -> physical PluggableDevice (device: 0, name: METAL, pci bus id: <undefined>)\n"
     ]
    }
   ],
   "source": [
    "encoder=create_encoder(VocabSize,EmbeddingSize,QuestionLen,N_Unit)"
   ]
  },
  {
   "cell_type": "code",
   "execution_count": 10,
   "metadata": {},
   "outputs": [],
   "source": [
    "encoder.load_weights('lstm_enc_test.h5')"
   ]
  },
  {
   "cell_type": "code",
   "execution_count": 11,
   "metadata": {},
   "outputs": [],
   "source": [
    "decoder=create_decoder(VocabSize,EmbeddingSize,N_Unit)"
   ]
  },
  {
   "cell_type": "code",
   "execution_count": 12,
   "metadata": {},
   "outputs": [],
   "source": [
    "decoder.load_weights('lstm_dec_test.h5')"
   ]
  },
  {
   "cell_type": "code",
   "execution_count": 13,
   "metadata": {},
   "outputs": [],
   "source": [
    "def clean_text(text):\n",
    "\n",
    "    # remove unnecessary characters in sentences\n",
    "    \n",
    "    text = text.lower().strip()\n",
    "    text = re.sub(r\"i'm\", \"i am\", text)\n",
    "    text = re.sub(r\"he's\", \"he is\", text)\n",
    "    text = re.sub(r\"she's\", \"she is\", text)\n",
    "    text = re.sub(r\"it's\", \"it is\", text)\n",
    "    text = re.sub(r\"that's\", \"that is\", text)\n",
    "    text = re.sub(r\"what's\", \"what is\", text)\n",
    "    text = re.sub(r\"where's\", \"where is\", text)\n",
    "    text = re.sub(r\"there's\", \"there is\", text)\n",
    "    text = re.sub(r\"how's\", \"how is\", text)\n",
    "    text = re.sub(r\"\\'ll\", \" will\", text)\n",
    "    text = re.sub(r\"\\'ve\", \" have\", text)\n",
    "    text = re.sub(r\"\\'re\", \" are\", text)\n",
    "    text = re.sub(r\"\\'d\", \" would\", text)\n",
    "    text = re.sub(r\"\\'re\", \" are\", text)\n",
    "    text = re.sub(r\"won't\", \"will not\", text)\n",
    "    text = re.sub(r\"can't\", \"cannot\", text)\n",
    "    text = re.sub(r\"n't\", \" not\", text)\n",
    "    text = re.sub(r\"n'\", \"ng\", text)\n",
    "    text = re.sub(r\"'bout\", \"about\", text)\n",
    "    text = re.sub(r\"'til\", \"until\", text)\n",
    "    text = re.sub(r'[\" \"]+', \" \", text)\n",
    "    text = re.sub(r\"[-()\\\"#/@;:<>{}`+=~|.!?,]\", \"\", text)\n",
    "    \n",
    "    return text"
   ]
  },
  {
   "cell_type": "code",
   "execution_count": 14,
   "metadata": {},
   "outputs": [],
   "source": [
    "def evaluate(sentence):\n",
    "    \n",
    "    sentence=clean_text(sentence) # clean the input text\n",
    "    encoder_inputs=[]\n",
    "    # convert the input text to index sequence and use unk replace the word not in vocabulary\n",
    "    for word in sentence.split():\n",
    "        if word in q_word2ind:\n",
    "            encoder_inputs.append(q_word2ind[word])\n",
    "        elif word not in q_word2ind:\n",
    "            encoder_inputs.append(q_word2ind['unk'])\n",
    "\n",
    "    encoder_inputs=tf.keras.preprocessing.sequence.pad_sequences([encoder_inputs],maxlen=QuestionLen,padding='post')\n",
    "    encoder_inputs = tf.convert_to_tensor(encoder_inputs)\n",
    "    encoder_h,encoder_c=encoder(encoder_inputs)\n",
    "    \n",
    "    # initialize the decoder input\n",
    "    decoder_inputs=tf.expand_dims([a_word2ind['bos']], 0)\n",
    "    hidden_h,hidden_c=encoder_h,encoder_c\n",
    "    \n",
    "    result=''\n",
    "    for t in range(AnswerLen):\n",
    "        pred,state_h,state_c=decoder([decoder_inputs,hidden_h,hidden_c])\n",
    "        pred=np.squeeze(pred)\n",
    "        pred_ind=tf.math.argmax(pred).numpy()+1\n",
    " \n",
    "        if a_ind2word[pred_ind]=='eos': # once we get the eos symbol, stop the loop\n",
    "            return result\n",
    "        result+=a_ind2word[pred_ind] + ' '\n",
    "        decoder_inputs=tf.expand_dims([pred_ind],0) # pass the predict index and state vectors to the next input       \n",
    "        hidden_h,hidden_c=state_h,state_c\n",
    "    return result"
   ]
  },
  {
   "cell_type": "code",
   "execution_count": 16,
   "metadata": {},
   "outputs": [
    {
     "name": "stdout",
     "output_type": "stream",
     "text": [
      "User :> hi\n",
      "Bot :> \n",
      "User :> user\n",
      "Bot :> is i that bos bos bos bos bos bos bos bos \n",
      "User :> why bos\n",
      "Bot :> is i that bos bos bos bos bos bos bos bos \n",
      "User :> bos bis\n",
      "Bot :> is bos bos bos bos bos bos bos bos bos bos \n",
      "User :> i\n",
      "Bot :> \n",
      "User :> you are the boss\n",
      "Bot :> you am not bos bos bos bos bos bos bos bos \n",
      "User :> quir\n",
      "Bot :> is i that bos bos bos bos bos bos bos bos \n",
      "User :> quit\n"
     ]
    }
   ],
   "source": [
    "while True:\n",
    "    inputs = input('User :> ')\n",
    "    if inputs == 'quit':\n",
    "        break\n",
    "\n",
    "    result = evaluate(inputs)\n",
    "\n",
    "    print('Bot :> ' + result)"
   ]
  },
  {
   "cell_type": "code",
   "execution_count": null,
   "metadata": {},
   "outputs": [],
   "source": []
  },
  {
   "cell_type": "code",
   "execution_count": null,
   "metadata": {},
   "outputs": [],
   "source": []
  }
 ],
 "metadata": {
  "kernelspec": {
   "display_name": "Python 3 (ipykernel)",
   "language": "python",
   "name": "python3"
  },
  "language_info": {
   "codemirror_mode": {
    "name": "ipython",
    "version": 3
   },
   "file_extension": ".py",
   "mimetype": "text/x-python",
   "name": "python",
   "nbconvert_exporter": "python",
   "pygments_lexer": "ipython3",
   "version": "3.11.4"
  }
 },
 "nbformat": 4,
 "nbformat_minor": 4
}
